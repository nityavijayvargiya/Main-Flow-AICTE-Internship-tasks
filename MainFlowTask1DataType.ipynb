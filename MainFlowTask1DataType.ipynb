{
 "cells": [
  {
   "cell_type": "code",
   "execution_count": 26,
   "id": "7dee0a74",
   "metadata": {},
   "outputs": [
    {
     "name": "stdout",
     "output_type": "stream",
     "text": [
      "Names: ['Nitya', 'Krish']\n"
     ]
    }
   ],
   "source": [
    "#List\n",
    "#Already Made List\n",
    "Names=[\"Nitya\",\"Krish\"]\n",
    "print(\"Names:\",Names)"
   ]
  },
  {
   "cell_type": "code",
   "execution_count": 27,
   "id": "390e9b7e",
   "metadata": {},
   "outputs": [],
   "source": [
    "# Add a new Name to the List\n",
    "Names.append(\"Ishit\")"
   ]
  },
  {
   "cell_type": "code",
   "execution_count": 28,
   "id": "2447bcf2",
   "metadata": {},
   "outputs": [
    {
     "name": "stdout",
     "output_type": "stream",
     "text": [
      "Names after adding Ishit: ['Nitya', 'Krish', 'Ishit']\n"
     ]
    }
   ],
   "source": [
    "print(\"Names after adding Ishit:\", Names)"
   ]
  },
  {
   "cell_type": "code",
   "execution_count": 29,
   "id": "b6921245",
   "metadata": {},
   "outputs": [
    {
     "name": "stdout",
     "output_type": "stream",
     "text": [
      "Names after removing Nitya: ['Krish', 'Ishit']\n"
     ]
    }
   ],
   "source": [
    "# Remove the first Name (Nitya)\n",
    "Names.pop(0)\n",
    "print(\"Names after removing Nitya:\", Names)"
   ]
  },
  {
   "cell_type": "code",
   "execution_count": 30,
   "id": "757f8927",
   "metadata": {},
   "outputs": [
    {
     "name": "stdout",
     "output_type": "stream",
     "text": [
      "Names: ['Krish', 'Preeti', 'Ishit']\n"
     ]
    }
   ],
   "source": [
    "#insertion at particular index\n",
    "Names.insert(1, \"Preeti\")\n",
    "print(\"Names:\",Names)"
   ]
  },
  {
   "cell_type": "code",
   "execution_count": 31,
   "id": "5ab72a44",
   "metadata": {},
   "outputs": [
    {
     "name": "stdout",
     "output_type": "stream",
     "text": [
      "List after removing Name at index 2: ['Krish', 'Preeti']\n",
      "Removed Name: Ishit\n"
     ]
    }
   ],
   "source": [
    "#Removing from a particular index\n",
    "removed_name=Names.pop(2)\n",
    "print(\"List after removing Name at index 2:\", Names)\n",
    "print(\"Removed Name:\", removed_name)"
   ]
  },
  {
   "cell_type": "code",
   "execution_count": 32,
   "id": "8f2a1423",
   "metadata": {},
   "outputs": [
    {
     "name": "stdout",
     "output_type": "stream",
     "text": [
      "List after modifying the first index name: ['Hemant', 'Preeti']\n"
     ]
    }
   ],
   "source": [
    "# Modify the any index \n",
    "Names[0] = \"Hemant\"\n",
    "print(\"List after modifying the first index name:\", Names)"
   ]
  },
  {
   "cell_type": "code",
   "execution_count": 21,
   "id": "c72fbcf4",
   "metadata": {},
   "outputs": [
    {
     "name": "stdout",
     "output_type": "stream",
     "text": [
      "Enter the number of student to make a list: 2\n",
      "Enter element 1: heloo\n",
      "Enter element 2: hi\n",
      "Names ['heloo', 'hi']\n"
     ]
    }
   ],
   "source": [
    "#taking List as input from the user\n",
    "Names_list=[]\n",
    "n=int(input(\"Enter the number of student to make a list: \"))\n",
    "for i in range(n):\n",
    "  element = input(\"Enter element {}: \".format(i+1))\n",
    "  Names_list.append(element)\n",
    "print(\"Names\", Names_list)"
   ]
  },
  {
   "cell_type": "code",
   "execution_count": 22,
   "id": "98720d29",
   "metadata": {},
   "outputs": [
    {
     "name": "stdout",
     "output_type": "stream",
     "text": [
      "Enter elements separated by commas: nitya,krish,ishit\n",
      "Names: ['nitya', 'krish', 'ishit']\n"
     ]
    }
   ],
   "source": [
    "# Getting comma-separated input\n",
    "user_input_Names = input(\"Enter elements separated by commas: \")\n",
    "\n",
    "# Convert the string to a list\n",
    "my_list = user_input_Names.split(\",\")\n",
    "\n",
    "# Print the list\n",
    "print(\"Names:\", my_list)"
   ]
  },
  {
   "cell_type": "code",
   "execution_count": null,
   "id": "18154143",
   "metadata": {},
   "outputs": [],
   "source": [
    "#Dictionary"
   ]
  },
  {
   "cell_type": "code",
   "execution_count": 36,
   "id": "125f0e8e",
   "metadata": {},
   "outputs": [
    {
     "name": "stdout",
     "output_type": "stream",
     "text": [
      "{'Name': 'Krish Vijayvargiya', 'Age': 18}\n"
     ]
    }
   ],
   "source": [
    "# Create a dictionary of Family information\n",
    "Family = {\n",
    "    \"Name\": \"Krish Vijayvargiya\",\n",
    "    \"Age\": 18,\n",
    "}\n",
    "print(Family)"
   ]
  },
  {
   "cell_type": "code",
   "execution_count": 37,
   "id": "430b4384",
   "metadata": {},
   "outputs": [
    {
     "name": "stdout",
     "output_type": "stream",
     "text": [
      "{'Name': 'Krish Vijayvargiya', 'Age': 18, 'city': 'New York'}\n"
     ]
    }
   ],
   "source": [
    "#Adding of a new key-value pair\n",
    "Family[\"city\"] = \"New York\"\n",
    "print(Family)"
   ]
  },
  {
   "cell_type": "code",
   "execution_count": 38,
   "id": "ac0db587",
   "metadata": {},
   "outputs": [
    {
     "name": "stdout",
     "output_type": "stream",
     "text": [
      "{'Name': 'Krish Vijayvargiya', 'Age': 18, 'city': 'New York', 'occupation': 'Software Engineer', 'job_title': 'Data Scientist'}\n"
     ]
    }
   ],
   "source": [
    "# Insertion\n",
    "Family.update({\"occupation\": \"Software Engineer\"})  \n",
    "# Updating with key-value pair\n",
    "Family.update(job_title=\"Data Scientist\") \n",
    "print(Family)"
   ]
  },
  {
   "cell_type": "code",
   "execution_count": 40,
   "id": "320fedc0",
   "metadata": {},
   "outputs": [
    {
     "name": "stdout",
     "output_type": "stream",
     "text": [
      "{'Name': 'Krish Vijayvargiya', 'city': 'New York', 'occupation': 'Software Engineer', 'job_title': 'Data Scientist'}\n"
     ]
    }
   ],
   "source": [
    "#deleting\n",
    "del Family[\"Age\"]\n",
    "print(Family) "
   ]
  },
  {
   "cell_type": "code",
   "execution_count": 41,
   "id": "33fe25c8",
   "metadata": {},
   "outputs": [
    {
     "name": "stdout",
     "output_type": "stream",
     "text": [
      "{'Name': 'Krish Vijayvargiya', 'occupation': 'Software Engineer', 'job_title': 'Data Scientist'}\n",
      "Removed value: New York\n"
     ]
    }
   ],
   "source": [
    "#Removing\n",
    "Removed_value = Family.pop(\"city\", \"N/A\")  \n",
    "print(Family)\n",
    "print(\"Removed value:\", Removed_value)\n",
    " "
   ]
  },
  {
   "cell_type": "code",
   "execution_count": null,
   "id": "e58e75c7",
   "metadata": {},
   "outputs": [],
   "source": [
    "#Set"
   ]
  },
  {
   "cell_type": "code",
   "execution_count": 50,
   "id": "ba57c630",
   "metadata": {},
   "outputs": [
    {
     "name": "stdout",
     "output_type": "stream",
     "text": [
      "{1, 2, 3, 4}\n"
     ]
    }
   ],
   "source": [
    "#Adding\n",
    "Set={1,2,3}\n",
    "Set.add(4)\n",
    "print(Set)"
   ]
  },
  {
   "cell_type": "code",
   "execution_count": 51,
   "id": "0224cfea",
   "metadata": {},
   "outputs": [
    {
     "name": "stdout",
     "output_type": "stream",
     "text": [
      "{1, 3, 4}\n"
     ]
    }
   ],
   "source": [
    "#Removing\n",
    "Set.remove(2)\n",
    "print(Set)"
   ]
  },
  {
   "cell_type": "code",
   "execution_count": 52,
   "id": "0c6c6ef7",
   "metadata": {},
   "outputs": [
    {
     "name": "stdout",
     "output_type": "stream",
     "text": [
      "{25, 10, 30}\n"
     ]
    }
   ],
   "source": [
    "#Modification is not directly possible in set but we can indirectly remove and add new element \n",
    "set = {10, 20, 30}\n",
    "set.remove(20)  # Remove the element to modify\n",
    "set.add(25)  # Add a new element with the modification\n",
    "print(set)\n"
   ]
  }
 ],
 "metadata": {
  "kernelspec": {
   "display_name": "Python 3 (ipykernel)",
   "language": "python",
   "name": "python3"
  },
  "language_info": {
   "codemirror_mode": {
    "name": "ipython",
    "version": 3
   },
   "file_extension": ".py",
   "mimetype": "text/x-python",
   "name": "python",
   "nbconvert_exporter": "python",
   "pygments_lexer": "ipython3",
   "version": "3.11.7"
  }
 },
 "nbformat": 4,
 "nbformat_minor": 5
}
